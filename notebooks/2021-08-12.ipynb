{
 "cells": [
  {
   "cell_type": "code",
   "execution_count": 1,
   "id": "49bef0aa-5ef8-4d49-b34b-14ec31924d7d",
   "metadata": {},
   "outputs": [],
   "source": [
    "import os\n",
    "import django\n",
    "os.environ['DJANGO_SETTINGS_MODULE'] = 'closestpoints.settings'\n",
    "os.environ['DJANGO_ALLOW_ASYNC_UNSAFE'] = 'true'\n",
    "django.setup()"
   ]
  },
  {
   "cell_type": "code",
   "execution_count": 115,
   "id": "f80c98b1-7891-4b67-85f1-ec13f54909d3",
   "metadata": {},
   "outputs": [
    {
     "data": {
      "text/plain": [
       "<module 'application.serializers' from '/home/collins/projects/closestpoints/application/serializers.py'>"
      ]
     },
     "execution_count": 115,
     "metadata": {},
     "output_type": "execute_result"
    }
   ],
   "source": [
    "import importlib\n",
    "from application import calculate, serializers\n",
    "from django.core.exceptions import NON_FIELD_ERRORS, ValidationError\n",
    "importlib.reload(calculate)\n",
    "importlib.reload(serializers)"
   ]
  },
  {
   "cell_type": "code",
   "execution_count": 3,
   "id": "d64a9f25-fccf-47b7-9952-b5ed69105339",
   "metadata": {},
   "outputs": [
    {
     "data": {
      "text/plain": [
       "<ClosestPoints: \n",
       "Points String: (2,3), (1,1), (5,4)\n",
       "Closest Pair: (('2', '3'), (' 1', '1'))>"
      ]
     },
     "execution_count": 3,
     "metadata": {},
     "output_type": "execute_result"
    }
   ],
   "source": [
    "ClosestPoints.objects.all()[0]"
   ]
  },
  {
   "cell_type": "code",
   "execution_count": 4,
   "id": "f557d4ae-07c3-4e2f-8b25-c922e37e7e2b",
   "metadata": {},
   "outputs": [],
   "source": [
    "c = ClosestPoints(points_string='bad string')"
   ]
  },
  {
   "cell_type": "code",
   "execution_count": 9,
   "id": "83e43456-df35-4838-8848-077fc8aed290",
   "metadata": {},
   "outputs": [
    {
     "name": "stdout",
     "output_type": "stream",
     "text": [
      "Invalid points string\n"
     ]
    }
   ],
   "source": [
    "try:\n",
    "    c.full_clean()\n",
    "except ValidationError as e:\n",
    "    print(e.message_dict[NON_FIELD_ERRORS][0])"
   ]
  },
  {
   "cell_type": "code",
   "execution_count": 10,
   "id": "31fd64f2-2e28-4aac-b7a2-897a56f3b1ed",
   "metadata": {},
   "outputs": [
    {
     "data": {
      "text/plain": [
       "(4, {'application.ClosestPoints': 4})"
      ]
     },
     "execution_count": 10,
     "metadata": {},
     "output_type": "execute_result"
    }
   ],
   "source": [
    "ClosestPoints.objects.all().delete()"
   ]
  },
  {
   "cell_type": "code",
   "execution_count": 12,
   "id": "2179e15d-340a-4035-8733-226ff47be12e",
   "metadata": {},
   "outputs": [],
   "source": [
    "points_string = '(2,3), (1,1), (5,4)'"
   ]
  },
  {
   "cell_type": "code",
   "execution_count": 14,
   "id": "f5532f2c-c1ac-4693-8282-aba1df3448f4",
   "metadata": {},
   "outputs": [
    {
     "data": {
      "text/plain": [
       "['2', '3', ' 1', '1', ' 5', '4']"
      ]
     },
     "execution_count": 14,
     "metadata": {},
     "output_type": "execute_result"
    }
   ],
   "source": [
    "points_string.replace('(', '').replace(')','').split(',')"
   ]
  },
  {
   "cell_type": "code",
   "execution_count": 18,
   "id": "2a386816-1811-44cb-a78a-ecfddf7c7f3a",
   "metadata": {},
   "outputs": [
    {
     "data": {
      "text/plain": [
       "[(2.0, 3.0), (1.0, 1.0), (5.0, 4.0)]"
      ]
     },
     "execution_count": 18,
     "metadata": {},
     "output_type": "execute_result"
    }
   ],
   "source": [
    "calculate.generate_tuples_list_from_string(points_string)"
   ]
  },
  {
   "cell_type": "code",
   "execution_count": 7,
   "id": "0d777d95-8c36-42cc-b8cc-f3621061439c",
   "metadata": {},
   "outputs": [
    {
     "data": {
      "text/plain": [
       "['45', '12', '54.32', '189.43', '94', '19', '871', '320']"
      ]
     },
     "execution_count": 7,
     "metadata": {},
     "output_type": "execute_result"
    }
   ],
   "source": [
    "pl = '(45,12),(54.32,189.43),(94,19),(871,320)'\n"
   ]
  },
  {
   "cell_type": "code",
   "execution_count": 8,
   "id": "b38ffe4d-6fb1-45f9-8188-6882a53b780c",
   "metadata": {},
   "outputs": [
    {
     "data": {
      "text/plain": [
       "'45'"
      ]
     },
     "execution_count": 8,
     "metadata": {},
     "output_type": "execute_result"
    }
   ],
   "source": [
    "'45'.strip(\"'\")"
   ]
  },
  {
   "cell_type": "code",
   "execution_count": 96,
   "id": "58210fab-e235-4cbc-b3a7-b84a48bfff1b",
   "metadata": {},
   "outputs": [],
   "source": [
    "pl = '(1,1),(2,2),(1,1),(7,8)'"
   ]
  },
  {
   "cell_type": "code",
   "execution_count": 44,
   "id": "b0895b57-4e1b-48d0-859e-b504b6d2521d",
   "metadata": {},
   "outputs": [],
   "source": [
    "l=calculate.generate_tuples_list_from_string(pl)"
   ]
  },
  {
   "cell_type": "code",
   "execution_count": 51,
   "id": "764faa7f-0a08-4e4f-96cd-0693423016a2",
   "metadata": {},
   "outputs": [
    {
     "name": "stdout",
     "output_type": "stream",
     "text": [
      "0 0\n",
      "0 0\n",
      "1 1\n",
      "0 0\n",
      "0 0\n",
      "3 3\n"
     ]
    },
    {
     "data": {
      "text/plain": [
       "[('1', '1'), ('2', '2'), ('1', '1'), ('7', '8')]"
      ]
     },
     "execution_count": 51,
     "metadata": {},
     "output_type": "execute_result"
    }
   ],
   "source": [
    "distances = []\n",
    "for p in l:\n",
    "    for q in l:\n",
    "        if l.index(p) == l.index(q):\n",
    "            print(l.index(p), l.index(q))\n",
    "            continue\n",
    "        distance = calculate.get_distance(p,q)\n",
    "        distances.append({\n",
    "            'p': l[l.index(p)],\n",
    "            'q': l[l.index(q)],\n",
    "            'distance': distance\n",
    "        })\n",
    "# sorted(distances, key=lambda d: d.get('distance'))\n",
    "l"
   ]
  },
  {
   "cell_type": "code",
   "execution_count": 63,
   "id": "83177d5b-f33f-4ffa-9c15-377d41577796",
   "metadata": {},
   "outputs": [
    {
     "name": "stdout",
     "output_type": "stream",
     "text": [
      "0\n",
      "1\n",
      "0\n",
      "3\n"
     ]
    },
    {
     "data": {
      "text/plain": [
       "[('1', '1'), ('2', '2'), ('1', '1'), ('7', '8')]"
      ]
     },
     "execution_count": 63,
     "metadata": {},
     "output_type": "execute_result"
    }
   ],
   "source": [
    "distances = []\n",
    "for p in l:\n",
    "    print(l.index(p))\n",
    "    for q in l:\n",
    "        if l.index(p) == l.index(q):\n",
    "            continue\n",
    "        distance = calculate.get_distance(p,q)\n",
    "        distances.append({\n",
    "            'p': l[l.index(p)],\n",
    "            'q': l[l.index(q)],\n",
    "            'distance': distance\n",
    "        })\n",
    "# sorted(distances, key=lambda d: d.get('distance'))\n",
    "l"
   ]
  },
  {
   "cell_type": "code",
   "execution_count": 56,
   "id": "b6ca57dd-bffa-4f0f-a7fc-a7cbef24727d",
   "metadata": {},
   "outputs": [
    {
     "data": {
      "text/plain": [
       "0.0"
      ]
     },
     "execution_count": 56,
     "metadata": {},
     "output_type": "execute_result"
    }
   ],
   "source": [
    "calculate.get_distance((1,1),(1,1))"
   ]
  },
  {
   "cell_type": "code",
   "execution_count": 72,
   "id": "bcc5b41c-7ce2-459c-9232-df8290142c5c",
   "metadata": {},
   "outputs": [],
   "source": [
    "def indices(mylist):\n",
    "    return [i for i,x in enumerate(mylist)]"
   ]
  },
  {
   "cell_type": "code",
   "execution_count": 73,
   "id": "96a2e430-3373-463d-9b0f-95e784e76457",
   "metadata": {},
   "outputs": [
    {
     "data": {
      "text/plain": [
       "[0, 1, 2, 3]"
      ]
     },
     "execution_count": 73,
     "metadata": {},
     "output_type": "execute_result"
    }
   ],
   "source": [
    "indices(l)"
   ]
  },
  {
   "cell_type": "code",
   "execution_count": 94,
   "id": "5c89baa7-59ec-4edf-95ac-5d32dc1e7cff",
   "metadata": {},
   "outputs": [
    {
     "data": {
      "text/plain": [
       "[{'p': 0, 'q': 2, 'distance': 0.0},\n",
       " {'p': 2, 'q': 0, 'distance': 0.0},\n",
       " {'p': 0, 'q': 1, 'distance': 1.4142135623730951},\n",
       " {'p': 1, 'q': 0, 'distance': 1.4142135623730951},\n",
       " {'p': 1, 'q': 2, 'distance': 1.4142135623730951},\n",
       " {'p': 2, 'q': 1, 'distance': 1.4142135623730951},\n",
       " {'p': 1, 'q': 3, 'distance': 7.810249675906654},\n",
       " {'p': 3, 'q': 1, 'distance': 7.810249675906654},\n",
       " {'p': 0, 'q': 3, 'distance': 9.219544457292887},\n",
       " {'p': 2, 'q': 3, 'distance': 9.219544457292887},\n",
       " {'p': 3, 'q': 0, 'distance': 9.219544457292887},\n",
       " {'p': 3, 'q': 2, 'distance': 9.219544457292887}]"
      ]
     },
     "execution_count": 94,
     "metadata": {},
     "output_type": "execute_result"
    }
   ],
   "source": [
    "distances = []\n",
    "for p,x in enumerate(l):\n",
    "    for q,y in enumerate(l):\n",
    "        if p == q:\n",
    "            continue\n",
    "        distance = calculate.get_distance(x,y)\n",
    "        distances.append({\n",
    "            'p': p,\n",
    "            'q': q,\n",
    "            'distance': distance\n",
    "        })\n",
    "sorted(distances, key=lambda d: d.get('distance'))"
   ]
  },
  {
   "cell_type": "code",
   "execution_count": 97,
   "id": "43d0b475-3e8f-477f-8f23-fffa7468cdf1",
   "metadata": {},
   "outputs": [
    {
     "data": {
      "text/plain": [
       "(('1', '1'), ('1', '1'))"
      ]
     },
     "execution_count": 97,
     "metadata": {},
     "output_type": "execute_result"
    }
   ],
   "source": [
    "calculate.closest_pair(pl)"
   ]
  },
  {
   "cell_type": "code",
   "execution_count": 98,
   "id": "5d26c55a-2f29-40a7-afc1-4b9282227501",
   "metadata": {},
   "outputs": [
    {
     "data": {
      "text/plain": [
       "[('1', '1'), ('2', '2'), ('1', '1'), ('7', '8')]"
      ]
     },
     "execution_count": 98,
     "metadata": {},
     "output_type": "execute_result"
    }
   ],
   "source": [
    "calculate.generate_tuples_list_from_string(pl)"
   ]
  },
  {
   "cell_type": "code",
   "execution_count": 102,
   "id": "44ac1790-8607-44d5-9067-7f9bd1b1e743",
   "metadata": {},
   "outputs": [
    {
     "data": {
      "text/plain": [
       "'1,1,2,2,1,1,7,8'"
      ]
     },
     "execution_count": 102,
     "metadata": {},
     "output_type": "execute_result"
    }
   ],
   "source": [
    "dl=pl.replace('(', '').replace(')','')\n",
    "dl"
   ]
  },
  {
   "cell_type": "code",
   "execution_count": 105,
   "id": "b693708c-50b0-411b-bc72-c7c18b712bbf",
   "metadata": {},
   "outputs": [
    {
     "data": {
      "text/plain": [
       "[(1, 1), (2, 2), (1, 1), (7, 8)]"
      ]
     },
     "execution_count": 105,
     "metadata": {},
     "output_type": "execute_result"
    }
   ],
   "source": [
    "calculate.generate_tuples_list_from_string(pl)"
   ]
  },
  {
   "cell_type": "code",
   "execution_count": 107,
   "id": "27e2065c-d5e9-4fb5-8de0-a68632d72e5a",
   "metadata": {},
   "outputs": [],
   "source": [
    "pl='(459,413),(4242,901),(1153,81),(3145,2),(11345.2,431),(9231.2, 5324.2)'"
   ]
  },
  {
   "cell_type": "code",
   "execution_count": 109,
   "id": "de56d06f-c863-4b18-b27b-37977370215d",
   "metadata": {},
   "outputs": [],
   "source": [
    "cl=calculate.closest_pair(pl)"
   ]
  },
  {
   "cell_type": "code",
   "execution_count": 110,
   "id": "d41a0529-0005-4a23-942c-1586cea7c094",
   "metadata": {},
   "outputs": [
    {
     "data": {
      "text/plain": [
       "(459, 413)"
      ]
     },
     "execution_count": 110,
     "metadata": {},
     "output_type": "execute_result"
    }
   ],
   "source": [
    "cl[0]"
   ]
  },
  {
   "cell_type": "code",
   "execution_count": 111,
   "id": "34be7ed2-315c-4725-96a8-cbfb4020f371",
   "metadata": {},
   "outputs": [
    {
     "data": {
      "text/plain": [
       "(1153, 81)"
      ]
     },
     "execution_count": 111,
     "metadata": {},
     "output_type": "execute_result"
    }
   ],
   "source": [
    "cl[1]"
   ]
  },
  {
   "cell_type": "code",
   "execution_count": 113,
   "id": "58762648-af27-43c6-b2cc-23e2aeacf557",
   "metadata": {},
   "outputs": [
    {
     "data": {
      "text/plain": [
       "'(459, 413),(1153, 81)'"
      ]
     },
     "execution_count": 113,
     "metadata": {},
     "output_type": "execute_result"
    }
   ],
   "source": [
    "str(cl[0]) + ',' + str(cl[1])"
   ]
  },
  {
   "cell_type": "code",
   "execution_count": 116,
   "id": "10f2f17e-c6ea-4a32-a1e7-c0270f0b9b97",
   "metadata": {},
   "outputs": [
    {
     "data": {
      "text/plain": [
       "'(45, 12),(94, 19)'"
      ]
     },
     "execution_count": 116,
     "metadata": {},
     "output_type": "execute_result"
    }
   ],
   "source": [
    "pl = '(45,12),(54.32,189.43),(94,19),(871,320)'\n",
    "calculate.closest_pair(pl)"
   ]
  },
  {
   "cell_type": "code",
   "execution_count": null,
   "id": "43d79e13-bf3c-41a0-b6f0-3f738b336b31",
   "metadata": {},
   "outputs": [],
   "source": []
  }
 ],
 "metadata": {
  "kernelspec": {
   "display_name": "Django Shell-Plus",
   "language": "python",
   "name": "django_extensions"
  },
  "language_info": {
   "codemirror_mode": {
    "name": "ipython",
    "version": 3
   },
   "file_extension": ".py",
   "mimetype": "text/x-python",
   "name": "python",
   "nbconvert_exporter": "python",
   "pygments_lexer": "ipython3",
   "version": "3.7.3"
  }
 },
 "nbformat": 4,
 "nbformat_minor": 5
}
